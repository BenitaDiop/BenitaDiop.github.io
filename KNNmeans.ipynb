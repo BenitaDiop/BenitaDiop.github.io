{
  "nbformat": 4,
  "nbformat_minor": 0,
  "metadata": {
    "colab": {
      "name": "KNNmeans.ipynb",
      "provenance": [],
      "include_colab_link": true
    },
    "kernelspec": {
      "name": "python3",
      "display_name": "Python 3"
    }
  },
  "cells": [
    {
      "cell_type": "markdown",
      "metadata": {
        "id": "view-in-github",
        "colab_type": "text"
      },
      "source": [
        "<a href=\"https://colab.research.google.com/github/BenitaDiop/BenitaDiop.github.io/blob/master/KNNmeans.ipynb\" target=\"_parent\"><img src=\"https://colab.research.google.com/assets/colab-badge.svg\" alt=\"Open In Colab\"/></a>"
      ]
    },
    {
      "cell_type": "code",
      "metadata": {
        "id": "pepx8MAyeQRN",
        "colab_type": "code",
        "colab": {}
      },
      "source": [
        ""
      ],
      "execution_count": 0,
      "outputs": []
    },
    {
      "cell_type": "code",
      "metadata": {
        "id": "bDmvHld0ePeu",
        "colab_type": "code",
        "colab": {}
      },
      "source": [
        "import tensorflow.compat.v1 as tf\n",
        "tf.disable_v2_behavior()\n",
        "import pandas as pd \n",
        "import numpy as np  \n",
        "\n",
        "import sklearn\n",
        "import sklearn.linear_model\n",
        "import sklearn.utils\n",
        "import random"
      ],
      "execution_count": 0,
      "outputs": []
    },
    {
      "cell_type": "markdown",
      "metadata": {
        "id": "_VQowHuue_Ht",
        "colab_type": "text"
      },
      "source": [
        "<html>\n",
        "<head>\n",
        "<style>\n",
        "h1   {color: blue;}\n",
        "p    {color: red;}\n",
        "</style>\n",
        "</head>\n",
        "<body>\n",
        "\n",
        "<center> <h1 style = \"color:blue;\" >  Initial Model = Regression </h1> <br> \n",
        "<hr>  \n",
        "<p> <h2>\n",
        "Notes <br> <h2> </center> \n",
        "<hr> \n",
        "<li> For random walks call the random package and use shuffle(x) to have the random shuffle function reorder the list in a randomized way. \n",
        "\n",
        "\n",
        "</p> \n",
        "\n",
        "</html> \n",
        "</body> \n"
      ]
    },
    {
      "cell_type": "code",
      "metadata": {
        "id": "dcNZMip_eQeX",
        "colab_type": "code",
        "colab": {}
      },
      "source": [
        ""
      ],
      "execution_count": 0,
      "outputs": []
    },
    {
      "cell_type": "code",
      "metadata": {
        "id": "KPCWsYqVeQh0",
        "colab_type": "code",
        "colab": {}
      },
      "source": [
        ""
      ],
      "execution_count": 0,
      "outputs": []
    },
    {
      "cell_type": "code",
      "metadata": {
        "id": "I232AdMveQk-",
        "colab_type": "code",
        "colab": {}
      },
      "source": [
        ""
      ],
      "execution_count": 0,
      "outputs": []
    },
    {
      "cell_type": "code",
      "metadata": {
        "id": "bfnn8k_seQnQ",
        "colab_type": "code",
        "colab": {}
      },
      "source": [
        ""
      ],
      "execution_count": 0,
      "outputs": []
    },
    {
      "cell_type": "code",
      "metadata": {
        "id": "yLXn2W02cneC",
        "colab_type": "code",
        "colab": {}
      },
      "source": [
        ""
      ],
      "execution_count": 0,
      "outputs": []
    }
  ]
}