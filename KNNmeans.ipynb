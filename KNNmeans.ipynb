{
  "nbformat": 4,
  "nbformat_minor": 0,
  "metadata": {
    "colab": {
      "name": "KNNmeans.ipynb",
      "provenance": [],
      "include_colab_link": true
    },
    "kernelspec": {
      "name": "python3",
      "display_name": "Python 3"
    }
  },
  "cells": [
    {
      "cell_type": "markdown",
      "metadata": {
        "id": "view-in-github",
        "colab_type": "text"
      },
      "source": [
        "<a href=\"https://colab.research.google.com/github/BenitaDiop/BenitaDiop.github.io/blob/master/KNNmeans.ipynb\" target=\"_parent\"><img src=\"https://colab.research.google.com/assets/colab-badge.svg\" alt=\"Open In Colab\"/></a>"
      ]
    },
    {
      "cell_type": "code",
      "metadata": {
        "id": "pepx8MAyeQRN",
        "colab_type": "code",
        "colab": {}
      },
      "source": [
        ""
      ],
      "execution_count": 0,
      "outputs": []
    },
    {
      "cell_type": "code",
      "metadata": {
        "id": "bDmvHld0ePeu",
        "colab_type": "code",
        "colab": {}
      },
      "source": [
        "import tensorflow.compat.v1 as tf\n",
        "tf.disable_v2_behavior()\n",
        "import pandas as pd \n",
        "import numpy as np  \n",
        "\n",
        "import sklearn\n",
        "import sklearn.linear_model\n",
        "import sklearn.utils\n",
        "import random"
      ],
      "execution_count": 0,
      "outputs": []
    },
    {
      "cell_type": "code",
      "metadata": {
        "id": "KPCWsYqVeQh0",
        "colab_type": "code",
        "colab": {}
      },
      "source": [
        "from google.colab import drive \n",
        "drive.mount('/content/gdrive')\n",
        "%cd /content/gdrive/My\\ Drive/Colab Notebooks/MLAI\n",
        "!pwd"
      ],
      "execution_count": 0,
      "outputs": []
    },
    {
      "cell_type": "markdown",
      "metadata": {
        "id": "_VQowHuue_Ht",
        "colab_type": "text"
      },
      "source": [
        "<center> <h1 style = \"color:blue;\" >  Initial Model = Regression </h1> <br> \n",
        "<hr>  \n",
        "<p> <h2>\n",
        "Notes <br> <h2> </center> \n",
        "<hr> \n",
        "<li> For random walks call the random package and use shuffle(x) to have the random shuffle function reorder the list in a randomized way. \n",
        "\n",
        "\n",
        "</p> \n",
        "\n"
      ]
    },
    {
      "cell_type": "code",
      "metadata": {
        "colab_type": "code",
        "outputId": "92705bb3-82fa-4eb6-b45b-539a1638d3d1",
        "id": "HwFhRlsBqtcZ",
        "colab": {
          "base_uri": "https://localhost:8080/",
          "height": 255
        }
      },
      "source": [
        "data = pd.read_csv(\"student-mat.csv\", sep= \";\")\n",
        "print(data.head)"
      ],
      "execution_count": 25,
      "outputs": [
        {
          "output_type": "stream",
          "text": [
            "<bound method NDFrame.head of     school sex  age address famsize Pstatus  ...  Walc  health absences  G1  G2  G3\n",
            "0       GP   F   18       U     GT3       A  ...     1       3        6   5   6   6\n",
            "1       GP   F   17       U     GT3       T  ...     1       3        4   5   5   6\n",
            "2       GP   F   15       U     LE3       T  ...     3       3       10   7   8  10\n",
            "3       GP   F   15       U     GT3       T  ...     1       5        2  15  14  15\n",
            "4       GP   F   16       U     GT3       T  ...     2       5        4   6  10  10\n",
            "..     ...  ..  ...     ...     ...     ...  ...   ...     ...      ...  ..  ..  ..\n",
            "390     MS   M   20       U     LE3       A  ...     5       4       11   9   9   9\n",
            "391     MS   M   17       U     LE3       T  ...     4       2        3  14  16  16\n",
            "392     MS   M   21       R     GT3       T  ...     3       3        3  10   8   7\n",
            "393     MS   M   18       R     LE3       T  ...     4       5        0  11  12  10\n",
            "394     MS   M   19       U     LE3       T  ...     3       5        5   8   9   9\n",
            "\n",
            "[395 rows x 33 columns]>\n"
          ],
          "name": "stdout"
        }
      ]
    },
    {
      "cell_type": "code",
      "metadata": {
        "id": "sdPhl9jjqvBQ",
        "colab_type": "code",
        "colab": {
          "base_uri": "https://localhost:8080/",
          "height": 255
        },
        "outputId": "1c731c39-c3a4-44a3-9f01-944f7270e075"
      },
      "source": [
        "data = data[[\"G1\", \"G2\", \"G3\", \"studytime\", \"failures\", \"absences\"]]\n",
        "print(data.head)"
      ],
      "execution_count": 32,
      "outputs": [
        {
          "output_type": "stream",
          "text": [
            "<bound method NDFrame.head of      G1  G2  G3  studytime  failures  absences\n",
            "0     5   6   6          2         0         6\n",
            "1     5   5   6          2         0         4\n",
            "2     7   8  10          2         3        10\n",
            "3    15  14  15          3         0         2\n",
            "4     6  10  10          2         0         4\n",
            "..   ..  ..  ..        ...       ...       ...\n",
            "390   9   9   9          2         2        11\n",
            "391  14  16  16          1         0         3\n",
            "392  10   8   7          1         3         3\n",
            "393  11  12  10          1         0         0\n",
            "394   8   9   9          1         0         5\n",
            "\n",
            "[395 rows x 6 columns]>\n"
          ],
          "name": "stdout"
        }
      ]
    },
    {
      "cell_type": "code",
      "metadata": {
        "id": "pVC89hA6rEf8",
        "colab_type": "code",
        "colab": {}
      },
      "source": [
        "predict = \"G3\""
      ],
      "execution_count": 0,
      "outputs": []
    },
    {
      "cell_type": "code",
      "metadata": {
        "id": "ZmGUShoosZ1Z",
        "colab_type": "code",
        "colab": {}
      },
      "source": [
        "X =np.array(data.drop([predict], 1))\n",
        "y=np.array(data[predict])"
      ],
      "execution_count": 0,
      "outputs": []
    },
    {
      "cell_type": "code",
      "metadata": {
        "id": "bERM3LDdsNoA",
        "colab_type": "code",
        "colab": {}
      },
      "source": [
        "x_train, x_test,y_train, y_test = sklearn.model_selection.train_test_split(X, y, test_size = 0.1)"
      ],
      "execution_count": 0,
      "outputs": []
    },
    {
      "cell_type": "code",
      "metadata": {
        "id": "rHhvEsV6rFIU",
        "colab_type": "code",
        "colab": {
          "base_uri": "https://localhost:8080/",
          "height": 34
        },
        "outputId": "e08b2a38-72b2-4903-fc96-0192264d6631"
      },
      "source": [
        "linear = sklearn.linear_model.LinearRegression()\n",
        "linear.fit(x_train,  y_train)\n",
        "acc = linear.score(x_test, y_test)\n",
        "print(acc)"
      ],
      "execution_count": 46,
      "outputs": [
        {
          "output_type": "stream",
          "text": [
            "0.7943267167702157\n"
          ],
          "name": "stdout"
        }
      ]
    },
    {
      "cell_type": "code",
      "metadata": {
        "id": "yLXn2W02cneC",
        "colab_type": "code",
        "colab": {
          "base_uri": "https://localhost:8080/",
          "height": 85
        },
        "outputId": "e4ac9630-5c8b-4138-99a6-38c7c1bc48da"
      },
      "source": [
        "  print('Coefficient: \\n', linear.coef_)\n",
        "  print('Intercept: \\n', linear.intercept_)"
      ],
      "execution_count": 47,
      "outputs": [
        {
          "output_type": "stream",
          "text": [
            "Coefficient: \n",
            " [ 0.13166303  0.98114443 -0.20059415 -0.25863535  0.0313727 ]\n",
            "Intercept: \n",
            " -1.173725691529489\n"
          ],
          "name": "stdout"
        }
      ]
    },
    {
      "cell_type": "code",
      "metadata": {
        "id": "mYynaQLLyUx_",
        "colab_type": "code",
        "colab": {}
      },
      "source": [
        ""
      ],
      "execution_count": 0,
      "outputs": []
    },
    {
      "cell_type": "code",
      "metadata": {
        "id": "-eh9QtaXyUqM",
        "colab_type": "code",
        "colab": {}
      },
      "source": [
        ""
      ],
      "execution_count": 0,
      "outputs": []
    },
    {
      "cell_type": "code",
      "metadata": {
        "id": "k6m8qNk-yTq2",
        "colab_type": "code",
        "colab": {}
      },
      "source": [
        ""
      ],
      "execution_count": 0,
      "outputs": []
    },
    {
      "cell_type": "code",
      "metadata": {
        "id": "sOJBz-NayTiA",
        "colab_type": "code",
        "colab": {}
      },
      "source": [
        ""
      ],
      "execution_count": 0,
      "outputs": []
    }
  ]
}